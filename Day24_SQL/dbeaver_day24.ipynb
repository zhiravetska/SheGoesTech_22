{
 "cells": [
  {
   "cell_type": "code",
   "execution_count": null,
   "metadata": {},
   "outputs": [],
   "source": [
    "# TODO\n",
    "\n",
    "# 1. get total sales for all years using invoice table\n",
    "# you will want to use SUBSTR to get the year from the invoice date\n",
    "# you will want to use SUM to get the total sales for each year\n",
    "\n",
    "\n",
    "# 2. get total sales for each country - use invoice table\n",
    "# you will also need to join with the customer table - those have country info\n",
    "\n",
    "\n",
    "# 3. a count tracks in each playlist - use playlist_track table\n",
    "\n",
    "# 3. b extra challenge get total track lenght in minutes for each playlist\n",
    "# you will need to join with the track table\n",
    "\n",
    "# 3. c cherry on top - provide names of these playlists\n",
    "# so you will want to join with the playlist table as well"
   ]
  },
  {
   "cell_type": "code",
   "execution_count": 1,
   "metadata": {},
   "outputs": [],
   "source": [
    "import sqlite3\n",
    "import pandas as pd"
   ]
  },
  {
   "cell_type": "code",
   "execution_count": null,
   "metadata": {},
   "outputs": [],
   "source": [
    "class SqliteCRUD:\n",
    "\n",
    "    def __init__(self, dbpath):\n",
    "        self.dbpath = dbpath\n",
    "        self.conn = sqlite3.connect(dbpath)\n",
    "        self.cursor = self.conn.cursor()\n",
    "        \n",
    "        return self\n",
    "    \n",
    "    def read_playlists(self):\n",
    "            query = \"\"\"\n",
    "            SELECT\n",
    "                trackid,\n",
    "                COUNT(trackid),\n",
    "                SUM(Milliseconds)/(1000*60) TrackLengthMinutes,\n",
    "                Name\n",
    "            FROM\n",
    "                playlist_track\n",
    "            JOIN tracks \n",
    "            ON playlist_track.TrackId = tracks.TrackId \n",
    "            JOIN playlists \n",
    "            ON playlist_track.ArtistId = playlists.ArtistId;\n",
    "            \"\"\"\n",
    "            return pd.read_sql_query(query, self.conn)"
   ]
  },
  {
   "cell_type": "code",
   "execution_count": null,
   "metadata": {},
   "outputs": [],
   "source": [
    "db = SqliteCRUD(\"chinook.db\")\n",
    "db.dbpath"
   ]
  }
 ],
 "metadata": {
  "kernelspec": {
   "display_name": "Python 3.10.7 64-bit",
   "language": "python",
   "name": "python3"
  },
  "language_info": {
   "codemirror_mode": {
    "name": "ipython",
    "version": 3
   },
   "file_extension": ".py",
   "mimetype": "text/x-python",
   "name": "python",
   "nbconvert_exporter": "python",
   "pygments_lexer": "ipython3",
   "version": "3.10.7"
  },
  "orig_nbformat": 4,
  "vscode": {
   "interpreter": {
    "hash": "3a67a583c77752d5e1af73125661a1aa0cf1349e180e510903c2c81315cf6006"
   }
  }
 },
 "nbformat": 4,
 "nbformat_minor": 2
}
