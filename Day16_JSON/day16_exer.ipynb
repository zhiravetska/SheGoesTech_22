{
 "cells": [
  {
   "cell_type": "code",
   "execution_count": null,
   "metadata": {},
   "outputs": [],
   "source": [
    "# API stands for Application Programming Interface - \n",
    "# ort of open specification for how to interact with a web service\n",
    "# TODO\n",
    "# read JSON from some public url\n",
    "# some ideas here: https://github.com/public-apis/public-apis\n",
    "# also https://jsonplaceholder.typicode.com/\n",
    "# https://mockaroo.com/ - requires registration to generate API key\n",
    "# choose ones that don't require authentication\n",
    "# many APIs are run by volunteers, so they may be slow or unreliable, or down\n",
    "# paid APIs are often faster and more reliable\n",
    "\n",
    "# TODO\n",
    "# parse JSON using requests\n",
    "# print out the data\n",
    "# bonus save the data into a file of some sort, could be JSON could be something else\n",
    "\n",
    "# you can write using notebook .ipynb or script .py"
   ]
  },
  {
   "cell_type": "code",
   "execution_count": 1,
   "metadata": {},
   "outputs": [],
   "source": [
    "import json\n",
    "import requests\n",
    "import pandas as pd"
   ]
  },
  {
   "cell_type": "code",
   "execution_count": 2,
   "metadata": {},
   "outputs": [
    {
     "name": "stdout",
     "output_type": "stream",
     "text": [
      "200\n"
     ]
    }
   ],
   "source": [
    "url = \"https://emojihub.herokuapp.com/api/all/category_travel_and_places\"\n",
    "response = requests.get(url)  \n",
    "print(response.status_code) "
   ]
  },
  {
   "cell_type": "code",
   "execution_count": 3,
   "metadata": {},
   "outputs": [
    {
     "data": {
      "text/plain": [
       "(list, 215)"
      ]
     },
     "execution_count": 3,
     "metadata": {},
     "output_type": "execute_result"
    }
   ],
   "source": [
    "data_json = response.json()  \n",
    "type(data_json), len(data_json)"
   ]
  },
  {
   "cell_type": "code",
   "execution_count": null,
   "metadata": {},
   "outputs": [],
   "source": [
    "travel = json.loads(response.text)\n",
    "print(travel)"
   ]
  },
  {
   "cell_type": "code",
   "execution_count": null,
   "metadata": {},
   "outputs": [],
   "source": [
    "dt = pd.read_json(url)\n",
    "dt.head()"
   ]
  },
  {
   "cell_type": "code",
   "execution_count": 8,
   "metadata": {},
   "outputs": [],
   "source": [
    "dt.to_csv(\"dt_file\")"
   ]
  }
 ],
 "metadata": {
  "kernelspec": {
   "display_name": "Python 3.10.7 64-bit",
   "language": "python",
   "name": "python3"
  },
  "language_info": {
   "codemirror_mode": {
    "name": "ipython",
    "version": 3
   },
   "file_extension": ".py",
   "mimetype": "text/x-python",
   "name": "python",
   "nbconvert_exporter": "python",
   "pygments_lexer": "ipython3",
   "version": "3.10.7"
  },
  "orig_nbformat": 4,
  "vscode": {
   "interpreter": {
    "hash": "3a67a583c77752d5e1af73125661a1aa0cf1349e180e510903c2c81315cf6006"
   }
  }
 },
 "nbformat": 4,
 "nbformat_minor": 2
}
