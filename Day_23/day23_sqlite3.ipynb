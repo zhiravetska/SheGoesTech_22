{
 "cells": [
  {
   "cell_type": "code",
   "execution_count": null,
   "metadata": {},
   "outputs": [],
   "source": [
    "# TODO: the following 5 functions for CRUD(create, read,update,delete) operations that work with sqlite database called chinook.db\n",
    "\n",
    "# def create_connection(dbpath):\n",
    "#   # can add verbose parameter that prints sqlite version used\n",
    "#   return conn\n",
    "# def create_artist(conn, artist_name):\n",
    "   # use parametrized query !\n",
    "#   # do not have to return anything but can use try: inside this function\n",
    "# def read_artists(conn):  # can add some extra parameters to limit\n",
    "#   return artists  # can return a list of tuples, or you can create a list of artist objects if you want\n",
    "# def update_artist(id, new_name):\n",
    "# def delete_artist(id=None, name=\"\"):\n",
    "#    # provide deletion by id AND/OR name\n",
    "\n",
    "\n",
    "# test it by adding you name to artists table smile\n",
    "\n",
    "# you can use .ipynb or .py file"
   ]
  },
  {
   "cell_type": "code",
   "execution_count": 1,
   "metadata": {},
   "outputs": [],
   "source": [
    "import sqlite3\n",
    "conn = sqlite3.connect('chinook.db')\n",
    "cur = conn.cursor()"
   ]
  },
  {
   "cell_type": "code",
   "execution_count": 3,
   "metadata": {},
   "outputs": [
    {
     "data": {
      "text/plain": [
       "<sqlite3.Connection at 0x170a7418240>"
      ]
     },
     "execution_count": 3,
     "metadata": {},
     "output_type": "execute_result"
    }
   ],
   "source": [
    "#def __repr__(self):\n",
    "        #return f\"{self.first_name} {self.last_name} {self.email} {self.country}\"\n",
    "\n",
    "def create_connection(dbpath):\n",
    "        conn = sqlite3.connect('chinook.db')\n",
    "        cur = conn.cursor()\n",
    "# # can add verbose parameter that prints sqlite version used\n",
    "        return conn\n",
    "create_connection('chinook.db')"
   ]
  },
  {
   "cell_type": "code",
   "execution_count": null,
   "metadata": {},
   "outputs": [],
   "source": [
    "def create_artist(conn, artist_name):\n",
    "   conn = \n",
    "   # use parametrized query !\n",
    "#   # do not have to return anything but can use try: inside this function\n",
    "create_artist(conn, John Lennon)"
   ]
  },
  {
   "cell_type": "code",
   "execution_count": null,
   "metadata": {},
   "outputs": [],
   "source": [
    "def read_artists(conn):  # can add some extra parameters to limit\n",
    "#   return artists  # can return a list of tuples, or you can create a list of artist objects if you want"
   ]
  },
  {
   "cell_type": "code",
   "execution_count": null,
   "metadata": {},
   "outputs": [],
   "source": [
    "def update_artist(id, new_name):"
   ]
  },
  {
   "cell_type": "code",
   "execution_count": null,
   "metadata": {},
   "outputs": [],
   "source": [
    "def delete_artist(id=None, name=\"\"):\n",
    "#    # provide deletion by id AND/OR name"
   ]
  },
  {
   "cell_type": "markdown",
   "metadata": {},
   "source": [
    "Classwork"
   ]
  },
  {
   "cell_type": "code",
   "execution_count": 2,
   "metadata": {},
   "outputs": [],
   "source": [
    "import sqlite3\n",
    "import pandas as pd"
   ]
  },
  {
   "cell_type": "code",
   "execution_count": 3,
   "metadata": {},
   "outputs": [
    {
     "name": "stdout",
     "output_type": "stream",
     "text": [
      "<sqlite3.Connection object at 0x00000270EFC20E40>\n"
     ]
    }
   ],
   "source": [
    "con = sqlite3.connect('chinook.db')\n",
    "print(con)"
   ]
  },
  {
   "cell_type": "code",
   "execution_count": 4,
   "metadata": {},
   "outputs": [
    {
     "data": {
      "text/html": [
       "<div>\n",
       "<style scoped>\n",
       "    .dataframe tbody tr th:only-of-type {\n",
       "        vertical-align: middle;\n",
       "    }\n",
       "\n",
       "    .dataframe tbody tr th {\n",
       "        vertical-align: top;\n",
       "    }\n",
       "\n",
       "    .dataframe thead th {\n",
       "        text-align: right;\n",
       "    }\n",
       "</style>\n",
       "<table border=\"1\" class=\"dataframe\">\n",
       "  <thead>\n",
       "    <tr style=\"text-align: right;\">\n",
       "      <th></th>\n",
       "      <th>TrackId</th>\n",
       "      <th>Name</th>\n",
       "      <th>AlbumId</th>\n",
       "      <th>MediaTypeId</th>\n",
       "      <th>GenreId</th>\n",
       "      <th>Composer</th>\n",
       "      <th>Milliseconds</th>\n",
       "      <th>Bytes</th>\n",
       "      <th>UnitPrice</th>\n",
       "    </tr>\n",
       "  </thead>\n",
       "  <tbody>\n",
       "    <tr>\n",
       "      <th>0</th>\n",
       "      <td>1</td>\n",
       "      <td>For Those About To Rock (We Salute You)</td>\n",
       "      <td>1</td>\n",
       "      <td>1</td>\n",
       "      <td>1</td>\n",
       "      <td>Angus Young, Malcolm Young, Brian Johnson</td>\n",
       "      <td>343719</td>\n",
       "      <td>11170334</td>\n",
       "      <td>0.99</td>\n",
       "    </tr>\n",
       "    <tr>\n",
       "      <th>1</th>\n",
       "      <td>2</td>\n",
       "      <td>Balls to the Wall</td>\n",
       "      <td>2</td>\n",
       "      <td>2</td>\n",
       "      <td>1</td>\n",
       "      <td>None</td>\n",
       "      <td>342562</td>\n",
       "      <td>5510424</td>\n",
       "      <td>0.99</td>\n",
       "    </tr>\n",
       "    <tr>\n",
       "      <th>2</th>\n",
       "      <td>3</td>\n",
       "      <td>Fast As a Shark</td>\n",
       "      <td>3</td>\n",
       "      <td>2</td>\n",
       "      <td>1</td>\n",
       "      <td>F. Baltes, S. Kaufman, U. Dirkscneider &amp; W. Ho...</td>\n",
       "      <td>230619</td>\n",
       "      <td>3990994</td>\n",
       "      <td>0.99</td>\n",
       "    </tr>\n",
       "    <tr>\n",
       "      <th>3</th>\n",
       "      <td>4</td>\n",
       "      <td>Restless and Wild</td>\n",
       "      <td>3</td>\n",
       "      <td>2</td>\n",
       "      <td>1</td>\n",
       "      <td>F. Baltes, R.A. Smith-Diesel, S. Kaufman, U. D...</td>\n",
       "      <td>252051</td>\n",
       "      <td>4331779</td>\n",
       "      <td>0.99</td>\n",
       "    </tr>\n",
       "    <tr>\n",
       "      <th>4</th>\n",
       "      <td>5</td>\n",
       "      <td>Princess of the Dawn</td>\n",
       "      <td>3</td>\n",
       "      <td>2</td>\n",
       "      <td>1</td>\n",
       "      <td>Deaffy &amp; R.A. Smith-Diesel</td>\n",
       "      <td>375418</td>\n",
       "      <td>6290521</td>\n",
       "      <td>0.99</td>\n",
       "    </tr>\n",
       "  </tbody>\n",
       "</table>\n",
       "</div>"
      ],
      "text/plain": [
       "   TrackId                                     Name  AlbumId  MediaTypeId  \\\n",
       "0        1  For Those About To Rock (We Salute You)        1            1   \n",
       "1        2                        Balls to the Wall        2            2   \n",
       "2        3                          Fast As a Shark        3            2   \n",
       "3        4                        Restless and Wild        3            2   \n",
       "4        5                     Princess of the Dawn        3            2   \n",
       "\n",
       "   GenreId                                           Composer  Milliseconds  \\\n",
       "0        1          Angus Young, Malcolm Young, Brian Johnson        343719   \n",
       "1        1                                               None        342562   \n",
       "2        1  F. Baltes, S. Kaufman, U. Dirkscneider & W. Ho...        230619   \n",
       "3        1  F. Baltes, R.A. Smith-Diesel, S. Kaufman, U. D...        252051   \n",
       "4        1                         Deaffy & R.A. Smith-Diesel        375418   \n",
       "\n",
       "      Bytes  UnitPrice  \n",
       "0  11170334       0.99  \n",
       "1   5510424       0.99  \n",
       "2   3990994       0.99  \n",
       "3   4331779       0.99  \n",
       "4   6290521       0.99  "
      ]
     },
     "execution_count": 4,
     "metadata": {},
     "output_type": "execute_result"
    }
   ],
   "source": [
    "df = pd.read_sql_query(\"select * from tracks\", con)\n",
    "df.head()"
   ]
  },
  {
   "cell_type": "code",
   "execution_count": 5,
   "metadata": {},
   "outputs": [
    {
     "data": {
      "text/html": [
       "<div>\n",
       "<style scoped>\n",
       "    .dataframe tbody tr th:only-of-type {\n",
       "        vertical-align: middle;\n",
       "    }\n",
       "\n",
       "    .dataframe tbody tr th {\n",
       "        vertical-align: top;\n",
       "    }\n",
       "\n",
       "    .dataframe thead th {\n",
       "        text-align: right;\n",
       "    }\n",
       "</style>\n",
       "<table border=\"1\" class=\"dataframe\">\n",
       "  <thead>\n",
       "    <tr style=\"text-align: right;\">\n",
       "      <th></th>\n",
       "      <th>TrackName</th>\n",
       "      <th>AlbumTitle</th>\n",
       "      <th>ArtistName</th>\n",
       "      <th>Genre</th>\n",
       "      <th>MediaType</th>\n",
       "      <th>time_ms</th>\n",
       "      <th>seconds</th>\n",
       "      <th>minutes</th>\n",
       "      <th>UnitPrice</th>\n",
       "    </tr>\n",
       "  </thead>\n",
       "  <tbody>\n",
       "    <tr>\n",
       "      <th>0</th>\n",
       "      <td>Dazed And Confused</td>\n",
       "      <td>The Song Remains The Same (Disc 1)</td>\n",
       "      <td>Led Zeppelin</td>\n",
       "      <td>Rock</td>\n",
       "      <td>MPEG audio file</td>\n",
       "      <td>1612329</td>\n",
       "      <td>1612</td>\n",
       "      <td>26</td>\n",
       "      <td>0.99</td>\n",
       "    </tr>\n",
       "    <tr>\n",
       "      <th>1</th>\n",
       "      <td>Space Truckin'</td>\n",
       "      <td>The Final Concerts (Disc 2)</td>\n",
       "      <td>Deep Purple</td>\n",
       "      <td>Rock</td>\n",
       "      <td>MPEG audio file</td>\n",
       "      <td>1196094</td>\n",
       "      <td>1196</td>\n",
       "      <td>19</td>\n",
       "      <td>0.99</td>\n",
       "    </tr>\n",
       "    <tr>\n",
       "      <th>2</th>\n",
       "      <td>Dazed And Confused</td>\n",
       "      <td>BBC Sessions [Disc 2] [Live]</td>\n",
       "      <td>Led Zeppelin</td>\n",
       "      <td>Rock</td>\n",
       "      <td>MPEG audio file</td>\n",
       "      <td>1116734</td>\n",
       "      <td>1116</td>\n",
       "      <td>18</td>\n",
       "      <td>0.99</td>\n",
       "    </tr>\n",
       "    <tr>\n",
       "      <th>3</th>\n",
       "      <td>We've Got To Get Together/Jingo</td>\n",
       "      <td>Santana Live</td>\n",
       "      <td>Santana</td>\n",
       "      <td>Rock</td>\n",
       "      <td>MPEG audio file</td>\n",
       "      <td>1070027</td>\n",
       "      <td>1070</td>\n",
       "      <td>17</td>\n",
       "      <td>0.99</td>\n",
       "    </tr>\n",
       "    <tr>\n",
       "      <th>4</th>\n",
       "      <td>Funky Piano</td>\n",
       "      <td>Santana Live</td>\n",
       "      <td>Santana</td>\n",
       "      <td>Rock</td>\n",
       "      <td>MPEG audio file</td>\n",
       "      <td>934791</td>\n",
       "      <td>934</td>\n",
       "      <td>15</td>\n",
       "      <td>0.99</td>\n",
       "    </tr>\n",
       "  </tbody>\n",
       "</table>\n",
       "</div>"
      ],
      "text/plain": [
       "                         TrackName                          AlbumTitle  \\\n",
       "0               Dazed And Confused  The Song Remains The Same (Disc 1)   \n",
       "1                   Space Truckin'         The Final Concerts (Disc 2)   \n",
       "2               Dazed And Confused        BBC Sessions [Disc 2] [Live]   \n",
       "3  We've Got To Get Together/Jingo                        Santana Live   \n",
       "4                      Funky Piano                        Santana Live   \n",
       "\n",
       "     ArtistName Genre        MediaType  time_ms  seconds  minutes  UnitPrice  \n",
       "0  Led Zeppelin  Rock  MPEG audio file  1612329     1612       26       0.99  \n",
       "1   Deep Purple  Rock  MPEG audio file  1196094     1196       19       0.99  \n",
       "2  Led Zeppelin  Rock  MPEG audio file  1116734     1116       18       0.99  \n",
       "3       Santana  Rock  MPEG audio file  1070027     1070       17       0.99  \n",
       "4       Santana  Rock  MPEG audio file   934791      934       15       0.99  "
      ]
     },
     "execution_count": 5,
     "metadata": {},
     "output_type": "execute_result"
    }
   ],
   "source": [
    "rock_df = pd.read_sql_query(\"select * from v_rock_songs\", con)\n",
    "rock_df.head()"
   ]
  },
  {
   "cell_type": "code",
   "execution_count": 7,
   "metadata": {},
   "outputs": [
    {
     "name": "stdout",
     "output_type": "stream",
     "text": [
      "<class 'pandas.core.frame.DataFrame'>\n",
      "RangeIndex: 1297 entries, 0 to 1296\n",
      "Data columns (total 9 columns):\n",
      " #   Column      Non-Null Count  Dtype  \n",
      "---  ------      --------------  -----  \n",
      " 0   TrackName   1297 non-null   object \n",
      " 1   AlbumTitle  1297 non-null   object \n",
      " 2   ArtistName  1297 non-null   object \n",
      " 3   Genre       1297 non-null   object \n",
      " 4   MediaType   1297 non-null   object \n",
      " 5   time_ms     1297 non-null   int64  \n",
      " 6   seconds     1297 non-null   int64  \n",
      " 7   minutes     1297 non-null   int64  \n",
      " 8   UnitPrice   1297 non-null   float64\n",
      "dtypes: float64(1), int64(3), object(5)\n",
      "memory usage: 91.3+ KB\n"
     ]
    },
    {
     "data": {
      "text/html": [
       "<div>\n",
       "<style scoped>\n",
       "    .dataframe tbody tr th:only-of-type {\n",
       "        vertical-align: middle;\n",
       "    }\n",
       "\n",
       "    .dataframe tbody tr th {\n",
       "        vertical-align: top;\n",
       "    }\n",
       "\n",
       "    .dataframe thead th {\n",
       "        text-align: right;\n",
       "    }\n",
       "</style>\n",
       "<table border=\"1\" class=\"dataframe\">\n",
       "  <thead>\n",
       "    <tr style=\"text-align: right;\">\n",
       "      <th></th>\n",
       "      <th>TrackName</th>\n",
       "      <th>AlbumTitle</th>\n",
       "      <th>ArtistName</th>\n",
       "      <th>Genre</th>\n",
       "      <th>MediaType</th>\n",
       "      <th>time_ms</th>\n",
       "      <th>seconds</th>\n",
       "      <th>minutes</th>\n",
       "      <th>UnitPrice</th>\n",
       "    </tr>\n",
       "  </thead>\n",
       "  <tbody>\n",
       "    <tr>\n",
       "      <th>186</th>\n",
       "      <td>Sin</td>\n",
       "      <td>Core</td>\n",
       "      <td>Stone Temple Pilots</td>\n",
       "      <td>Rock</td>\n",
       "      <td>MPEG audio file</td>\n",
       "      <td>364800</td>\n",
       "      <td>364</td>\n",
       "      <td>6</td>\n",
       "      <td>0.99</td>\n",
       "    </tr>\n",
       "    <tr>\n",
       "      <th>187</th>\n",
       "      <td>Black Sabbath</td>\n",
       "      <td>Speak of the Devil</td>\n",
       "      <td>Ozzy Osbourne</td>\n",
       "      <td>Rock</td>\n",
       "      <td>Protected AAC audio file</td>\n",
       "      <td>364180</td>\n",
       "      <td>364</td>\n",
       "      <td>6</td>\n",
       "      <td>0.99</td>\n",
       "    </tr>\n",
       "    <tr>\n",
       "      <th>188</th>\n",
       "      <td>How Many Say I</td>\n",
       "      <td>Van Halen III</td>\n",
       "      <td>Van Halen</td>\n",
       "      <td>Rock</td>\n",
       "      <td>MPEG audio file</td>\n",
       "      <td>363937</td>\n",
       "      <td>363</td>\n",
       "      <td>6</td>\n",
       "      <td>0.99</td>\n",
       "    </tr>\n",
       "    <tr>\n",
       "      <th>189</th>\n",
       "      <td>No Sign of Yesterday</td>\n",
       "      <td>The Best Of Men At Work</td>\n",
       "      <td>Men At Work</td>\n",
       "      <td>Rock</td>\n",
       "      <td>MPEG audio file</td>\n",
       "      <td>362004</td>\n",
       "      <td>362</td>\n",
       "      <td>6</td>\n",
       "      <td>0.99</td>\n",
       "    </tr>\n",
       "    <tr>\n",
       "      <th>190</th>\n",
       "      <td>Hands All Over</td>\n",
       "      <td>A-Sides</td>\n",
       "      <td>Soundgarden</td>\n",
       "      <td>Rock</td>\n",
       "      <td>MPEG audio file</td>\n",
       "      <td>362475</td>\n",
       "      <td>362</td>\n",
       "      <td>6</td>\n",
       "      <td>0.99</td>\n",
       "    </tr>\n",
       "  </tbody>\n",
       "</table>\n",
       "</div>"
      ],
      "text/plain": [
       "                TrackName               AlbumTitle           ArtistName Genre  \\\n",
       "186                   Sin                     Core  Stone Temple Pilots  Rock   \n",
       "187         Black Sabbath       Speak of the Devil        Ozzy Osbourne  Rock   \n",
       "188        How Many Say I            Van Halen III            Van Halen  Rock   \n",
       "189  No Sign of Yesterday  The Best Of Men At Work          Men At Work  Rock   \n",
       "190        Hands All Over                  A-Sides          Soundgarden  Rock   \n",
       "\n",
       "                    MediaType  time_ms  seconds  minutes  UnitPrice  \n",
       "186           MPEG audio file   364800      364        6       0.99  \n",
       "187  Protected AAC audio file   364180      364        6       0.99  \n",
       "188           MPEG audio file   363937      363        6       0.99  \n",
       "189           MPEG audio file   362004      362        6       0.99  \n",
       "190           MPEG audio file   362475      362        6       0.99  "
      ]
     },
     "execution_count": 7,
     "metadata": {},
     "output_type": "execute_result"
    }
   ],
   "source": [
    "rock_df.info()\n",
    "rock_df[rock_df['minutes'] > 5].tail()"
   ]
  },
  {
   "cell_type": "code",
   "execution_count": 8,
   "metadata": {},
   "outputs": [
    {
     "name": "stdout",
     "output_type": "stream",
     "text": [
      "<sqlite3.Cursor object at 0x00000270EFD56940>\n"
     ]
    }
   ],
   "source": [
    "cur = con.cursor() \n",
    "print(cur)"
   ]
  },
  {
   "cell_type": "code",
   "execution_count": 9,
   "metadata": {},
   "outputs": [
    {
     "data": {
      "text/plain": [
       "[('albums',),\n",
       " ('sqlite_sequence',),\n",
       " ('artists',),\n",
       " ('customers',),\n",
       " ('employees',),\n",
       " ('genres',),\n",
       " ('invoices',),\n",
       " ('invoice_items',),\n",
       " ('media_types',),\n",
       " ('playlists',),\n",
       " ('playlist_track',),\n",
       " ('tracks',),\n",
       " ('sqlite_stat1',),\n",
       " ('results',),\n",
       " ('managers',)]"
      ]
     },
     "execution_count": 9,
     "metadata": {},
     "output_type": "execute_result"
    }
   ],
   "source": [
    "cur.execute(\"select name from sqlite_master where type = 'table'\")\n",
    "table_list = cur.fetchall() \n",
    "table_list"
   ]
  },
  {
   "cell_type": "code",
   "execution_count": 10,
   "metadata": {},
   "outputs": [
    {
     "data": {
      "text/plain": [
       "[('v_top_playlist',),\n",
       " ('v_tracks',),\n",
       " ('v_long_songs',),\n",
       " ('v_full_tracks',),\n",
       " ('v_full_tracks_2',),\n",
       " ('v_rock_songs',)]"
      ]
     },
     "execution_count": 10,
     "metadata": {},
     "output_type": "execute_result"
    }
   ],
   "source": [
    "view_list = cur.execute(\"select name from sqlite_master where type = 'view'\").fetchall()\n",
    "view_list"
   ]
  },
  {
   "cell_type": "code",
   "execution_count": 11,
   "metadata": {},
   "outputs": [
    {
     "name": "stdout",
     "output_type": "stream",
     "text": [
      "(1, 'Rock')\n",
      "(2, 'Jazz')\n",
      "(3, 'Metal')\n",
      "(4, 'Alternative & Punk')\n",
      "(5, 'Rock And Roll')\n",
      "(6, 'Blues')\n",
      "(7, 'Latin')\n",
      "(8, 'Reggae')\n",
      "(9, 'Pop')\n",
      "(10, 'Soundtrack')\n",
      "(11, 'Bossa Nova')\n",
      "(12, 'Easy Listening')\n",
      "(13, 'Heavy Metal')\n",
      "(14, 'R&B/Soul')\n",
      "(15, 'Electronica/Dance')\n",
      "(16, 'World')\n",
      "(17, 'Hip Hop/Rap')\n",
      "(18, 'Science Fiction')\n",
      "(19, 'TV Shows')\n",
      "(20, 'Sci Fi & Fantasy')\n",
      "(21, 'Drama')\n",
      "(22, 'Comedy')\n",
      "(23, 'Alternative')\n",
      "(24, 'Classical')\n",
      "(25, 'Opera')\n"
     ]
    },
    {
     "data": {
      "text/plain": [
       "[(1, 'Rock'),\n",
       " (2, 'Jazz'),\n",
       " (3, 'Metal'),\n",
       " (4, 'Alternative & Punk'),\n",
       " (5, 'Rock And Roll')]"
      ]
     },
     "execution_count": 11,
     "metadata": {},
     "output_type": "execute_result"
    }
   ],
   "source": [
    "result = cur.execute(\"select * from genres\")\n",
    "for row in result: \n",
    "    print(row)\n",
    "result = cur.execute(\"select * from genres\")\n",
    "result.fetchmany(5)"
   ]
  },
  {
   "cell_type": "code",
   "execution_count": null,
   "metadata": {},
   "outputs": [],
   "source": []
  }
 ],
 "metadata": {
  "kernelspec": {
   "display_name": "Python 3.10.7 64-bit",
   "language": "python",
   "name": "python3"
  },
  "language_info": {
   "codemirror_mode": {
    "name": "ipython",
    "version": 3
   },
   "file_extension": ".py",
   "mimetype": "text/x-python",
   "name": "python",
   "nbconvert_exporter": "python",
   "pygments_lexer": "ipython3",
   "version": "3.10.7"
  },
  "orig_nbformat": 4,
  "vscode": {
   "interpreter": {
    "hash": "3a67a583c77752d5e1af73125661a1aa0cf1349e180e510903c2c81315cf6006"
   }
  }
 },
 "nbformat": 4,
 "nbformat_minor": 2
}
